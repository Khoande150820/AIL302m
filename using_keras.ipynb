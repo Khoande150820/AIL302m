{
 "cells": [
  {
   "cell_type": "code",
   "execution_count": 13,
   "metadata": {},
   "outputs": [],
   "source": [
    "import tensorflow as tf\n",
    "from tensorflow.keras.models import Sequential\n",
    "from tensorflow.keras.layers import Dense, Activation, Flatten\n",
    "import pickle\n",
    "import numpy as np\n",
    "from sklearn.model_selection import train_test_split\n",
    "import matplotlib.pyplot as plt"
   ]
  },
  {
   "cell_type": "code",
   "execution_count": 2,
   "metadata": {},
   "outputs": [],
   "source": [
    "def get_data():\n",
    "    with open(\"data/X.pickle\", \"rb\") as f:\n",
    "        X = pickle.load(f)\n",
    "    with open(\"data/y.pickle\", \"rb\") as f:\n",
    "        y = pickle.load(f)\n",
    "    y = y.reshape(-1,1)\n",
    "    X = X / 255\n",
    "    X = X.reshape(X.shape[0], -1).astype(np.float32)\n",
    "    return X, y"
   ]
  },
  {
   "cell_type": "code",
   "execution_count": 9,
   "metadata": {},
   "outputs": [],
   "source": [
    "X , y = get_data()\n",
    "X_train, X_test, y_train, y_test = train_test_split(X, y, shuffle=True, test_size =0.25)"
   ]
  },
  {
   "cell_type": "code",
   "execution_count": 16,
   "metadata": {
    "scrolled": true
   },
   "outputs": [
    {
     "name": "stdout",
     "output_type": "stream",
     "text": [
      "LEARNING RATE:  0.01\n",
      "Epoch 1/10\n",
      "293/293 [==============================] - 1s 2ms/step - loss: 0.7150 - accuracy: 0.4990\n",
      "Epoch 2/10\n",
      "293/293 [==============================] - 1s 2ms/step - loss: 0.6968 - accuracy: 0.4969\n",
      "Epoch 3/10\n",
      "293/293 [==============================] - 1s 2ms/step - loss: 0.6958 - accuracy: 0.4962\n",
      "Epoch 4/10\n",
      "293/293 [==============================] - 1s 2ms/step - loss: 0.6971 - accuracy: 0.5000\n",
      "Epoch 5/10\n",
      "293/293 [==============================] - 1s 2ms/step - loss: 0.6956 - accuracy: 0.5002\n",
      "Epoch 6/10\n",
      "293/293 [==============================] - 1s 2ms/step - loss: 0.6951 - accuracy: 0.4996\n",
      "Epoch 7/10\n",
      "293/293 [==============================] - 1s 2ms/step - loss: 0.6947 - accuracy: 0.4991\n",
      "Epoch 8/10\n",
      "293/293 [==============================] - 1s 2ms/step - loss: 0.6951 - accuracy: 0.5044\n",
      "Epoch 9/10\n",
      "293/293 [==============================] - 1s 2ms/step - loss: 0.6958 - accuracy: 0.5026\n",
      "Epoch 10/10\n",
      "293/293 [==============================] - 1s 2ms/step - loss: 0.6956 - accuracy: 0.5037\n",
      "LEARNING RATE:  0.005\n",
      "Epoch 1/10\n",
      "293/293 [==============================] - 1s 3ms/step - loss: 0.7035 - accuracy: 0.5035\n",
      "Epoch 2/10\n",
      "293/293 [==============================] - 1s 2ms/step - loss: 0.6956 - accuracy: 0.4982\n",
      "Epoch 3/10\n",
      "293/293 [==============================] - 1s 3ms/step - loss: 0.6955 - accuracy: 0.4977: 0s - loss: 0\n",
      "Epoch 4/10\n",
      "293/293 [==============================] - 1s 3ms/step - loss: 0.6947 - accuracy: 0.5004\n",
      "Epoch 5/10\n",
      "293/293 [==============================] - 1s 3ms/step - loss: 0.6950 - accuracy: 0.5015\n",
      "Epoch 6/10\n",
      "293/293 [==============================] - 1s 3ms/step - loss: 0.6950 - accuracy: 0.5030\n",
      "Epoch 7/10\n",
      "293/293 [==============================] - 1s 3ms/step - loss: 0.6954 - accuracy: 0.4932\n",
      "Epoch 8/10\n",
      "293/293 [==============================] - 1s 3ms/step - loss: 0.6956 - accuracy: 0.4994\n",
      "Epoch 9/10\n",
      "293/293 [==============================] - 1s 3ms/step - loss: 0.6951 - accuracy: 0.5004\n",
      "Epoch 10/10\n",
      "293/293 [==============================] - 1s 2ms/step - loss: 0.6949 - accuracy: 0.5044\n",
      "LEARNING RATE:  0.001\n",
      "Epoch 1/10\n",
      "293/293 [==============================] - 1s 3ms/step - loss: 0.6882 - accuracy: 0.5384\n",
      "Epoch 2/10\n",
      "293/293 [==============================] - 1s 3ms/step - loss: 0.6673 - accuracy: 0.5942\n",
      "Epoch 3/10\n",
      "293/293 [==============================] - 1s 2ms/step - loss: 0.6616 - accuracy: 0.6025\n",
      "Epoch 4/10\n",
      "293/293 [==============================] - 1s 3ms/step - loss: 0.6572 - accuracy: 0.6119\n",
      "Epoch 5/10\n",
      "293/293 [==============================] - 1s 3ms/step - loss: 0.6557 - accuracy: 0.6147\n",
      "Epoch 6/10\n",
      "293/293 [==============================] - 1s 3ms/step - loss: 0.6496 - accuracy: 0.6190\n",
      "Epoch 7/10\n",
      "293/293 [==============================] - 1s 3ms/step - loss: 0.6502 - accuracy: 0.6206\n",
      "Epoch 8/10\n",
      "293/293 [==============================] - 1s 3ms/step - loss: 0.6458 - accuracy: 0.6262\n",
      "Epoch 9/10\n",
      "293/293 [==============================] - 1s 3ms/step - loss: 0.6432 - accuracy: 0.6275: 0s - loss: 0.6435 - ac\n",
      "Epoch 10/10\n",
      "293/293 [==============================] - 1s 3ms/step - loss: 0.6423 - accuracy: 0.6255\n",
      "LEARNING RATE:  0.0001\n",
      "Epoch 1/10\n",
      "293/293 [==============================] - 1s 3ms/step - loss: 0.6895 - accuracy: 0.5319\n",
      "Epoch 2/10\n",
      "293/293 [==============================] - 1s 3ms/step - loss: 0.6820 - accuracy: 0.5674\n",
      "Epoch 3/10\n",
      "293/293 [==============================] - 1s 3ms/step - loss: 0.6751 - accuracy: 0.5839\n",
      "Epoch 4/10\n",
      "293/293 [==============================] - 1s 2ms/step - loss: 0.6693 - accuracy: 0.5941\n",
      "Epoch 5/10\n",
      "293/293 [==============================] - 1s 2ms/step - loss: 0.6640 - accuracy: 0.6039\n",
      "Epoch 6/10\n",
      "293/293 [==============================] - 1s 2ms/step - loss: 0.6595 - accuracy: 0.6086\n",
      "Epoch 7/10\n",
      "293/293 [==============================] - 1s 2ms/step - loss: 0.6556 - accuracy: 0.6127\n",
      "Epoch 8/10\n",
      "293/293 [==============================] - 1s 2ms/step - loss: 0.6539 - accuracy: 0.6162\n",
      "Epoch 9/10\n",
      "293/293 [==============================] - 1s 2ms/step - loss: 0.6501 - accuracy: 0.6172\n",
      "Epoch 10/10\n",
      "293/293 [==============================] - 1s 2ms/step - loss: 0.6480 - accuracy: 0.6196\n"
     ]
    }
   ],
   "source": [
    "learning_rates = [0.01,0.005,.001,.0001]\n",
    "model_list = []\n",
    "for lr in learning_rates:\n",
    "    print(\"LEARNING RATE: \" , lr)\n",
    "    opt = tf.keras.optimizers.Adam(learning_rate=lr)\n",
    "    model = Sequential()\n",
    "    model.add(Dense(128, input_dim = 2500, activation = \"sigmoid\"))\n",
    "    model.add(Dense(128,activation = \"sigmoid\"))\n",
    "    model.add(Dense(1, activation=\"sigmoid\"))\n",
    "    model.compile(loss = \"binary_crossentropy\", optimizer = opt, metrics = 'accuracy')\n",
    "    history = model.fit(X_train, y_train, epochs=10, batch_size=64)\n",
    "    model_dict.update({lr: history})"
   ]
  }
 ],
 "metadata": {
  "kernelspec": {
   "display_name": "Python 3",
   "language": "python",
   "name": "python3"
  },
  "language_info": {
   "codemirror_mode": {
    "name": "ipython",
    "version": 3
   },
   "file_extension": ".py",
   "mimetype": "text/x-python",
   "name": "python",
   "nbconvert_exporter": "python",
   "pygments_lexer": "ipython3",
   "version": "3.8.5"
  }
 },
 "nbformat": 4,
 "nbformat_minor": 4
}
