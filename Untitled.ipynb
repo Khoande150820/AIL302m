{
 "cells": [
  {
   "cell_type": "code",
   "execution_count": 36,
   "metadata": {},
   "outputs": [
    {
     "name": "stdout",
     "output_type": "stream",
     "text": [
      "cat1.jpg\n",
      "(1, 2500)\n"
     ]
    },
    {
     "ename": "error",
     "evalue": "OpenCV(4.5.2) :-1: error: (-5:Bad argument) in function 'imshow'\n> Overload resolution failed:\n>  - imshow() missing required argument 'mat' (pos 2)\n>  - imshow() missing required argument 'mat' (pos 2)\n>  - imshow() missing required argument 'mat' (pos 2)\n",
     "output_type": "error",
     "traceback": [
      "\u001b[1;31m---------------------------------------------------------------------------\u001b[0m",
      "\u001b[1;31merror\u001b[0m                                     Traceback (most recent call last)",
      "\u001b[1;32m<ipython-input-36-91b92c4cf3dd>\u001b[0m in \u001b[0;36m<module>\u001b[1;34m\u001b[0m\n\u001b[0;32m     77\u001b[0m \u001b[1;32mif\u001b[0m \u001b[0m__name__\u001b[0m \u001b[1;33m==\u001b[0m \u001b[1;34m'__main__'\u001b[0m\u001b[1;33m:\u001b[0m\u001b[1;33m\u001b[0m\u001b[1;33m\u001b[0m\u001b[0m\n\u001b[0;32m     78\u001b[0m     \u001b[0mmodel\u001b[0m \u001b[1;33m=\u001b[0m \u001b[0mModel\u001b[0m\u001b[1;33m.\u001b[0m\u001b[0mload\u001b[0m\u001b[1;33m(\u001b[0m\u001b[1;34m\"model.model\"\u001b[0m\u001b[1;33m)\u001b[0m\u001b[1;33m\u001b[0m\u001b[1;33m\u001b[0m\u001b[0m\n\u001b[1;32m---> 79\u001b[1;33m     \u001b[0mget_prediction\u001b[0m\u001b[1;33m(\u001b[0m\u001b[0mmodel\u001b[0m\u001b[1;33m)\u001b[0m\u001b[1;33m\u001b[0m\u001b[1;33m\u001b[0m\u001b[0m\n\u001b[0m",
      "\u001b[1;32m<ipython-input-36-91b92c4cf3dd>\u001b[0m in \u001b[0;36mget_prediction\u001b[1;34m(model)\u001b[0m\n\u001b[0;32m     70\u001b[0m         \u001b[0mpredictions\u001b[0m \u001b[1;33m=\u001b[0m \u001b[0mint\u001b[0m\u001b[1;33m(\u001b[0m\u001b[0mpredictions\u001b[0m\u001b[1;33m)\u001b[0m\u001b[1;33m\u001b[0m\u001b[1;33m\u001b[0m\u001b[0m\n\u001b[0;32m     71\u001b[0m         \u001b[0mlabel\u001b[0m \u001b[1;33m=\u001b[0m \u001b[0mPREDICT_LABEL\u001b[0m\u001b[1;33m[\u001b[0m\u001b[0mpredictions\u001b[0m\u001b[1;33m]\u001b[0m\u001b[1;33m\u001b[0m\u001b[1;33m\u001b[0m\u001b[0m\n\u001b[1;32m---> 72\u001b[1;33m         \u001b[0mcv2\u001b[0m\u001b[1;33m.\u001b[0m\u001b[0mimshow\u001b[0m\u001b[1;33m(\u001b[0m\u001b[0mraw_img\u001b[0m\u001b[1;33m)\u001b[0m\u001b[1;33m\u001b[0m\u001b[1;33m\u001b[0m\u001b[0m\n\u001b[0m\u001b[0;32m     73\u001b[0m         \u001b[0mcv2\u001b[0m\u001b[1;33m.\u001b[0m\u001b[0mlegend\u001b[0m\u001b[1;33m(\u001b[0m\u001b[0mlabel\u001b[0m\u001b[1;33m)\u001b[0m\u001b[1;33m\u001b[0m\u001b[1;33m\u001b[0m\u001b[0m\n\u001b[0;32m     74\u001b[0m \u001b[1;33m\u001b[0m\u001b[0m\n",
      "\u001b[1;31merror\u001b[0m: OpenCV(4.5.2) :-1: error: (-5:Bad argument) in function 'imshow'\n> Overload resolution failed:\n>  - imshow() missing required argument 'mat' (pos 2)\n>  - imshow() missing required argument 'mat' (pos 2)\n>  - imshow() missing required argument 'mat' (pos 2)\n"
     ]
    }
   ],
   "source": [
    "from Layer import *\n",
    "from Accuracy import *\n",
    "from Loss import *\n",
    "from Optimizer import *\n",
    "import numpy as np\n",
    "from tqdm import tqdm\n",
    "import cv2\n",
    "import os\n",
    "import pickle, random\n",
    "from Model import Model\n",
    "import matplotlib.pyplot as plt\n",
    "DATA_DIR = \"D:\\\\FPT_project\\\\AILm\\\\Project\\\\Data\\\\PetImages\"\n",
    "CATEGORIES = [\"Dog\", \"Cat\"]\n",
    "IMG_SIZE = 50\n",
    "\n",
    "\n",
    "def create_data():\n",
    "    training_data = []\n",
    "    for category in CATEGORIES:\n",
    "        path = os.path.join(DATA_DIR, category)  # Create path to file\n",
    "        class_num = CATEGORIES.index(category)  # get the classification 0 is dog, 1 is cat\n",
    "\n",
    "        for img in tqdm(os.listdir(path)):\n",
    "            try:\n",
    "                img_array = cv2.imread(os.path.join(path, img), cv2.IMREAD_GRAYSCALE)  # convert image to gray scale\n",
    "                img_array_resize = cv2.resize(img_array, (50, 50))\n",
    "                training_data.append([img_array_resize, class_num])\n",
    "            except Exception as e:\n",
    "                print(f\"Error at {os.path.join(path, img)}\"\n",
    "                      f\"\\n\"\n",
    "\n",
    "                      f\"Detail: {e}\")\n",
    "    random.shuffle(training_data)\n",
    "    return training_data\n",
    "\n",
    "\n",
    "def save_data(training_data):\n",
    "    X = []\n",
    "    y = []\n",
    "    for feature, label in training_data:\n",
    "        X.append(feature)\n",
    "        y.append(label)\n",
    "    X = np.array(X).reshape(-1, IMG_SIZE, IMG_SIZE, 1)\n",
    "    y = np.array(y)\n",
    "    pickle_out = open(\"data/X.pickle\", \"wb\")\n",
    "    pickle.dump(X, pickle_out)\n",
    "    pickle_out.close()\n",
    "    pickle_out = open(\"data/y.pickle\", \"wb\")\n",
    "    pickle.dump(y, pickle_out)\n",
    "    pickle_out.close()\n",
    "\n",
    "\n",
    "TEST_DIR = \"TestImg\"\n",
    "PREDICT_LABEL = {0: \"dog\", 1: \"cat\"}\n",
    "\n",
    "\n",
    "def get_prediction(model):\n",
    "\n",
    "    for img in os.listdir(TEST_DIR):\n",
    "        print(img)\n",
    "        raw_img = cv2.imread(os.path.join(TEST_DIR,img))\n",
    "        X = cv2.resize(cv2.imread(os.path.join(TEST_DIR, img), cv2.IMREAD_GRAYSCALE), (50, 50))\n",
    "        X = np.array(X)\n",
    "        X = X / 255\n",
    "        X = X.reshape(1, -1)\n",
    "        print(X.shape)\n",
    "        confidences = model.predict(X)\n",
    "        predictions = model.output_layer_activation.predictions(confidences)\n",
    "        predictions = predictions.reshape(-1)\n",
    "        predictions = int(predictions)\n",
    "        label = PREDICT_LABEL[predictions]\n",
    "        cv2.imshow(raw_img)\n",
    "        cv2.legend(label)\n",
    "\n",
    "\n",
    "\n",
    "if __name__ == '__main__':\n",
    "    model = Model.load(\"model.model\")\n",
    "    get_prediction(model)"
   ]
  }
 ],
 "metadata": {
  "kernelspec": {
   "display_name": "Python 3",
   "language": "python",
   "name": "python3"
  },
  "language_info": {
   "codemirror_mode": {
    "name": "ipython",
    "version": 3
   },
   "file_extension": ".py",
   "mimetype": "text/x-python",
   "name": "python",
   "nbconvert_exporter": "python",
   "pygments_lexer": "ipython3",
   "version": "3.8.5"
  }
 },
 "nbformat": 4,
 "nbformat_minor": 4
}
